{
  "nbformat": 4,
  "nbformat_minor": 0,
  "metadata": {
    "colab": {
      "name": "Python_Project.ipynb",
      "provenance": []
    },
    "kernelspec": {
      "name": "python3",
      "display_name": "Python 3"
    },
    "language_info": {
      "name": "python"
    }
  },
  "cells": [
    {
      "cell_type": "code",
      "metadata": {
        "colab": {
          "base_uri": "https://localhost:8080/"
        },
        "id": "tTWyESC_0rAz",
        "outputId": "58cc881d-1c56-4891-b85e-f952f82b059a"
      },
      "source": [
        "import hashlib\n",
        "print(\"Pankti Chauhan\")\n",
        "print()\n",
        "print(\"Program TO Generate MD5 Of String\")\n",
        "n=input(\"Input Your String  :\")\n",
        "print(n)\n",
        "hash= hashlib.md5()\n",
        "hash.update(n.encode('utf-8'))\n",
        "print(\"MDS of \"+n +\" is : \",hash.hexdigest())"
      ],
      "execution_count": 2,
      "outputs": [
        {
          "output_type": "stream",
          "text": [
            "Pankti Chauhan\n",
            "\n",
            "Program TO Generate MD5 Of String\n",
            "Input Your String  :Pankti\n",
            "Pankti\n",
            "MDS of Pankti is :  1c96f14a860f3b7ee85b4a67c182282b\n"
          ],
          "name": "stdout"
        }
      ]
    }
  ]
}